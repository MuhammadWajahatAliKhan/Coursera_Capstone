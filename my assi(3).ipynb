{
 "cells": [
  {
   "cell_type": "markdown",
   "metadata": {},
   "source": [
    "# Capstone Project - The Battle of Neighborhoods"
   ]
  },
  {
   "cell_type": "markdown",
   "metadata": {},
   "source": [
    "### Introduction\n",
    "\n",
    "New York City's demographics show that it is a large and ethnically diverse metropolis. It is the largest city in the United States with a long history of international immigration. New York City was home to nearly 8.5 million people in 2014, accounting for over 40% of the population of New York State and a slightly lower percentage of the New York metropolitan area, home to approximately 23.6 million. Over the last decade the city has been growing faster than the region. The New York region continues to be by far the leading metropolitan gateway for legal immigrants admitted into the United States.\n",
    "\n",
    "Throughout its history, New York City has been a major point of entry for immigrants; the term \"melting pot\" was coined to describe densely populated immigrant neighborhoods on the Lower East Side. As many as 800 languages are spoken in New York, making it the most linguistically diverse city in the world. English remains the most widely spoken language, although there are areas in the outer boroughs in which up to 25% of people speak English as an alternate language, and/or have limited or no English language fluency. English is least spoken in neighborhoods such as Flushing, Sunset Park, and Corona.\n",
    "\n",
    "With it's diverse culture , comes diverse food items. There are many resturants in New york City, each beloning to different categories like Chinese , italian , French etc.\n",
    "\n",
    "So as part of this project , we will list and visualize all major parts of New York City that has great italian resturants."
   ]
  },
  {
   "cell_type": "markdown",
   "metadata": {},
   "source": [
    "### Data \n",
    "For this project we need the following data :\n",
    "<ul>\n",
    "<li> New York City data that contains list Boroughs, Neighborhoods along with their latitude and longitude.\n",
    "    <ul>\n",
    "        <li>Data source : https://cocl.us/new_york_dataset\n",
    "        <li> Description : This data set contains the required information. And we will use this data set to explore various neighborhoods of new york city.\n",
    "     </ul>\n",
    "<li> italian resturants in each neighborhood of new york city.\n",
    "        <ul>\n",
    "        <li>Data source : Fousquare API\n",
    "        <li> Description : By using this api we will get all the venues in each neighborhood. We can filter these venues to get only italian resturants.\n",
    "     </ul>\n",
    "<li> GeoSpace data\n",
    "          <ul>\n",
    "        <li>Data source : https://data.cityofnewyork.us/City-Government/Borough-Boundaries/tqmj-j8zm\n",
    "        <li> Description : By using this geo space data we will get the New york Borough boundaries that will help us visualize choropleth map.\n",
    "  \n",
    "</ul>"
   ]
  },
  {
   "cell_type": "markdown",
   "metadata": {},
   "source": [
    "### Approach\n",
    "- Collect the new york city data from https://cocl.us/new_york_dataset\n",
    "- Using FourSquare API we will find all venues for each neighborhood.\n",
    "- Filter out all venues that are italian Resturants.\n",
    "- Find rating , tips and like count for each italian Resturants using FourSquare API.\n",
    "- Using rating for each resturant , we will sort that data.\n",
    "- Visualize the Ranking of neighborhoods using folium library(python)"
   ]
  },
  {
   "cell_type": "markdown",
   "metadata": {},
   "source": [
    "### Questions that can be asked using the above mentioned datasets\n",
    "- What is best location in New York City for italian Cuisine ? \n",
    "- Which areas have potential italian Resturant Market ? \n",
    "- Which all areas lack italian Resturants ?\n",
    "- Which is the best place to stay if I prefer italian Cuisine ?"
   ]
  },
  {
   "cell_type": "markdown",
   "metadata": {},
   "source": [
    "### Analysis"
   ]
  },
  {
   "cell_type": "markdown",
   "metadata": {},
   "source": [
    "We will import the required libraries for python.\n",
    "\n",
    "- pandas and numpy for handling data.\n",
    "- request module for using FourSquare API.\n",
    "- geopy to get co-ordinates of City of New York.\n",
    "- folium to visualize the results on a map"
   ]
  },
  {
   "cell_type": "code",
   "execution_count": 4,
   "metadata": {},
   "outputs": [
    {
     "name": "stdout",
     "output_type": "stream",
     "text": [
      "Libraries imported.\n"
     ]
    }
   ],
   "source": [
    "import pandas as pd\n",
    "import numpy as np\n",
    "pd.set_option('display.max_columns', None)\n",
    "pd.set_option('display.max_rows', None)\n",
    "import requests\n",
    "from bs4 import BeautifulSoup\n",
    "import geocoder\n",
    "import os\n",
    "import folium # map rendering library\n",
    "from geopy.geocoders import Nominatim # convert an address into latitude and longitude values\n",
    "# Matplotlib and associated plotting modules\n",
    "import matplotlib.pyplot as plt\n",
    "import matplotlib.cm as cm\n",
    "import matplotlib.colors as colors\n",
    "%matplotlib inline\n",
    "\n",
    "\n",
    "print('Libraries imported.')"
   ]
  },
  {
   "cell_type": "markdown",
   "metadata": {},
   "source": [
    "Now we define a function to get the geocodes i.e latitude and longitude of a given location using geopy."
   ]
  },
  {
   "cell_type": "code",
   "execution_count": 3,
   "metadata": {},
   "outputs": [
    {
     "name": "stdout",
     "output_type": "stream",
     "text": [
      "Collecting geocoder\n",
      "\u001b[?25l  Downloading https://files.pythonhosted.org/packages/4f/6b/13166c909ad2f2d76b929a4227c952630ebaf0d729f6317eb09cbceccbab/geocoder-1.38.1-py2.py3-none-any.whl (98kB)\n",
      "\u001b[K     |████████████████████████████████| 102kB 311kB/s ta 0:00:01\n",
      "\u001b[?25hRequirement already satisfied: future in /opt/conda/envs/Python36/lib/python3.6/site-packages (from geocoder) (0.17.1)\n",
      "Requirement already satisfied: requests in /opt/conda/envs/Python36/lib/python3.6/site-packages (from geocoder) (2.21.0)\n",
      "Requirement already satisfied: click in /opt/conda/envs/Python36/lib/python3.6/site-packages (from geocoder) (7.0)\n",
      "Collecting ratelim (from geocoder)\n",
      "  Downloading https://files.pythonhosted.org/packages/f2/98/7e6d147fd16a10a5f821db6e25f192265d6ecca3d82957a4fdd592cad49c/ratelim-0.1.6-py2.py3-none-any.whl\n",
      "Requirement already satisfied: six in /opt/conda/envs/Python36/lib/python3.6/site-packages (from geocoder) (1.12.0)\n",
      "Requirement already satisfied: certifi>=2017.4.17 in /opt/conda/envs/Python36/lib/python3.6/site-packages (from requests->geocoder) (2019.6.16)\n",
      "Requirement already satisfied: chardet<3.1.0,>=3.0.2 in /opt/conda/envs/Python36/lib/python3.6/site-packages (from requests->geocoder) (3.0.4)\n",
      "Requirement already satisfied: urllib3<1.25,>=1.21.1 in /opt/conda/envs/Python36/lib/python3.6/site-packages (from requests->geocoder) (1.24.1)\n",
      "Requirement already satisfied: idna<2.9,>=2.5 in /opt/conda/envs/Python36/lib/python3.6/site-packages (from requests->geocoder) (2.8)\n",
      "Requirement already satisfied: decorator in /opt/conda/envs/Python36/lib/python3.6/site-packages (from ratelim->geocoder) (4.3.2)\n",
      "Installing collected packages: ratelim, geocoder\n",
      "Successfully installed geocoder-1.38.1 ratelim-0.1.6\n"
     ]
    }
   ],
   "source": [
    "!pip install geocoder"
   ]
  },
  {
   "cell_type": "code",
   "execution_count": 5,
   "metadata": {},
   "outputs": [],
   "source": [
    "def geo_location(address):\n",
    "    # get geo location of address\n",
    "    geolocator = Nominatim(user_agent=\"ny_explorer\")\n",
    "    location = geolocator.geocode(address)\n",
    "    latitude = location.latitude\n",
    "    longitude = location.longitude\n",
    "    return latitude,longitude"
   ]
  },
  {
   "cell_type": "markdown",
   "metadata": {},
   "source": [
    "We define a function to intract with FourSquare API and get top 100 venues within a radius of 1000 metres for a given  latitude and longitude. Below function will return us the venue id , venue name and category."
   ]
  },
  {
   "cell_type": "code",
   "execution_count": 6,
   "metadata": {},
   "outputs": [],
   "source": [
    "def get_venues(lat,lng):\n",
    "    \n",
    "    #set variables\n",
    "    radius=1000\n",
    "    LIMIT=100\n",
    "    CLIENT_ID = 'OX13HQ3GH2D4BAACDFXPF2CCBAQVFT0T5BCS3IB20SLJXBY0' # your Foursquare ID\n",
    "    CLIENT_SECRET ='SRV5VH1V04R4PKDWBF2WKPNK2WOTR2YOSL0AYEIV5KHYHWO5' # your Foursquare Secret\n",
    "    VERSION = '20180605' # Foursquare API version\n",
    "    \n",
    "    #url to fetch data from foursquare api\n",
    "    url = 'https://api.foursquare.com/v2/venues/explore?&client_id={}&client_secret={}&v={}&ll={},{}&radius={}&limit={}'.format(\n",
    "            CLIENT_ID, \n",
    "            CLIENT_SECRET, \n",
    "            VERSION, \n",
    "            lat, \n",
    "            lng, \n",
    "            radius, \n",
    "            LIMIT)\n",
    "    \n",
    "    # get all the data\n",
    "    results = requests.get(url).json()\n",
    "    venue_data=results[\"response\"]['groups'][0]['items']\n",
    "    venue_details=[]\n",
    "    for row in venue_data:\n",
    "        try:\n",
    "            venue_id=row['venue']['id']\n",
    "            venue_name=row['venue']['name']\n",
    "            venue_category=row['venue']['categories'][0]['name']\n",
    "            venue_details.append([venue_id,venue_name,venue_category])\n",
    "        except KeyError:\n",
    "            pass\n",
    "        \n",
    "    column_names=['ID','Name','Category']\n",
    "    df = pd.DataFrame(venue_details,columns=column_names)\n",
    "    return df\n",
    "    "
   ]
  },
  {
   "cell_type": "markdown",
   "metadata": {},
   "source": [
    "Now we will define a function to get venue details like like count , rating , tip counts for a given venue id.\n",
    "This will be used for ranking."
   ]
  },
  {
   "cell_type": "markdown",
   "metadata": {},
   "source": [
    "Now we define a funtion to get the new york city data such as Boroughs, Neighborhoods along with their latitude and longitude."
   ]
  },
  {
   "cell_type": "code",
   "execution_count": 7,
   "metadata": {},
   "outputs": [],
   "source": [
    "def get_new_york_data():\n",
    "    url='https://cocl.us/new_york_dataset'\n",
    "    resp=requests.get(url).json()\n",
    "    # all data is present in features label\n",
    "    features=resp['features']\n",
    "    \n",
    "    # define the dataframe columns\n",
    "    column_names = ['Borough', 'Neighborhood', 'Latitude', 'Longitude'] \n",
    "    # instantiate the dataframe\n",
    "    new_york_data = pd.DataFrame(columns=column_names)\n",
    "    \n",
    "    for data in features:\n",
    "        borough = data['properties']['borough'] \n",
    "        neighborhood_name = data['properties']['name']\n",
    "        \n",
    "        neighborhood_latlon = data['geometry']['coordinates']\n",
    "        neighborhood_lat = neighborhood_latlon[1]\n",
    "        neighborhood_lon = neighborhood_latlon[0]\n",
    "    \n",
    "        new_york_data = new_york_data.append({'Borough': borough,\n",
    "                                          'Neighborhood': neighborhood_name,\n",
    "                                          'Latitude': neighborhood_lat,\n",
    "                                          'Longitude': neighborhood_lon}, ignore_index=True)\n",
    "    \n",
    "    return new_york_data"
   ]
  },
  {
   "cell_type": "markdown",
   "metadata": {},
   "source": [
    "We will call the above funtion to get the new york city data."
   ]
  },
  {
   "cell_type": "code",
   "execution_count": 8,
   "metadata": {},
   "outputs": [],
   "source": [
    "# get new york data\n",
    "new_york_data=get_new_york_data()"
   ]
  },
  {
   "cell_type": "code",
   "execution_count": 9,
   "metadata": {},
   "outputs": [
    {
     "data": {
      "text/html": [
       "<div>\n",
       "<style scoped>\n",
       "    .dataframe tbody tr th:only-of-type {\n",
       "        vertical-align: middle;\n",
       "    }\n",
       "\n",
       "    .dataframe tbody tr th {\n",
       "        vertical-align: top;\n",
       "    }\n",
       "\n",
       "    .dataframe thead th {\n",
       "        text-align: right;\n",
       "    }\n",
       "</style>\n",
       "<table border=\"1\" class=\"dataframe\">\n",
       "  <thead>\n",
       "    <tr style=\"text-align: right;\">\n",
       "      <th></th>\n",
       "      <th>Borough</th>\n",
       "      <th>Neighborhood</th>\n",
       "      <th>Latitude</th>\n",
       "      <th>Longitude</th>\n",
       "    </tr>\n",
       "  </thead>\n",
       "  <tbody>\n",
       "    <tr>\n",
       "      <th>0</th>\n",
       "      <td>Bronx</td>\n",
       "      <td>Wakefield</td>\n",
       "      <td>40.894705</td>\n",
       "      <td>-73.847201</td>\n",
       "    </tr>\n",
       "    <tr>\n",
       "      <th>1</th>\n",
       "      <td>Bronx</td>\n",
       "      <td>Co-op City</td>\n",
       "      <td>40.874294</td>\n",
       "      <td>-73.829939</td>\n",
       "    </tr>\n",
       "    <tr>\n",
       "      <th>2</th>\n",
       "      <td>Bronx</td>\n",
       "      <td>Eastchester</td>\n",
       "      <td>40.887556</td>\n",
       "      <td>-73.827806</td>\n",
       "    </tr>\n",
       "    <tr>\n",
       "      <th>3</th>\n",
       "      <td>Bronx</td>\n",
       "      <td>Fieldston</td>\n",
       "      <td>40.895437</td>\n",
       "      <td>-73.905643</td>\n",
       "    </tr>\n",
       "    <tr>\n",
       "      <th>4</th>\n",
       "      <td>Bronx</td>\n",
       "      <td>Riverdale</td>\n",
       "      <td>40.890834</td>\n",
       "      <td>-73.912585</td>\n",
       "    </tr>\n",
       "  </tbody>\n",
       "</table>\n",
       "</div>"
      ],
      "text/plain": [
       "  Borough Neighborhood   Latitude  Longitude\n",
       "0   Bronx    Wakefield  40.894705 -73.847201\n",
       "1   Bronx   Co-op City  40.874294 -73.829939\n",
       "2   Bronx  Eastchester  40.887556 -73.827806\n",
       "3   Bronx    Fieldston  40.895437 -73.905643\n",
       "4   Bronx    Riverdale  40.890834 -73.912585"
      ]
     },
     "execution_count": 9,
     "metadata": {},
     "output_type": "execute_result"
    }
   ],
   "source": [
    "new_york_data.head()"
   ]
  },
  {
   "cell_type": "code",
   "execution_count": 10,
   "metadata": {},
   "outputs": [
    {
     "data": {
      "text/plain": [
       "(306, 4)"
      ]
     },
     "execution_count": 10,
     "metadata": {},
     "output_type": "execute_result"
    }
   ],
   "source": [
    "new_york_data.shape"
   ]
  },
  {
   "cell_type": "markdown",
   "metadata": {},
   "source": [
    "So there are total of 306 different Neighborhoods in New York"
   ]
  },
  {
   "cell_type": "code",
   "execution_count": 11,
   "metadata": {},
   "outputs": [
    {
     "data": {
      "image/png": "[encoded data removed]",
      "text/plain": [
       "<Figure size 900x500 with 1 Axes>"
      ]
     },
     "metadata": {
      "needs_background": "light"
     },
     "output_type": "display_data"
    }
   ],
   "source": [
    "plt.figure(figsize=(9,5), dpi = 100)\n",
    "# title\n",
    "plt.title('Number of Neighborhood for each Borough in New York City')\n",
    "#On x-axis\n",
    "plt.xlabel('Borough', fontsize = 15)\n",
    "#On y-axis\n",
    "plt.ylabel('No.of Neighborhood', fontsize=15)\n",
    "#giving a bar plot\n",
    "new_york_data.groupby('Borough')['Neighborhood'].count().plot(kind='bar')\n",
    "#legend\n",
    "plt.legend()\n",
    "#displays the plot\n",
    "plt.show()"
   ]
  },
  {
   "cell_type": "markdown",
   "metadata": {},
   "source": [
    "We see that Queens has highest number of neighborhoods"
   ]
  },
  {
   "cell_type": "markdown",
   "metadata": {},
   "source": [
    "Now we will collect italian resturants for each Neighborhood"
   ]
  },
  {
   "cell_type": "code",
   "execution_count": 12,
   "metadata": {},
   "outputs": [
    {
     "name": "stdout",
     "output_type": "stream",
     "text": [
      "( 1 / 306 ) Italian Resturants in Wakefield, Bronx:0\n",
      "( 2 / 306 ) Italian Resturants in Co-op City, Bronx:0\n",
      "( 3 / 306 ) Italian Resturants in Eastchester, Bronx:0\n",
      "( 4 / 306 ) Italian Resturants in Fieldston, Bronx:0\n",
      "( 5 / 306 ) Italian Resturants in Riverdale, Bronx:1\n",
      "( 6 / 306 ) Italian Resturants in Kingsbridge, Bronx:1\n",
      "( 7 / 306 ) Italian Resturants in Marble Hill, Manhattan:0\n",
      "( 8 / 306 ) Italian Resturants in Woodlawn, Bronx:2\n",
      "( 9 / 306 ) Italian Resturants in Norwood, Bronx:0\n",
      "( 10 / 306 ) Italian Resturants in Williamsbridge, Bronx:0\n",
      "( 11 / 306 ) Italian Resturants in Baychester, Bronx:2\n",
      "( 12 / 306 ) Italian Resturants in Pelham Parkway, Bronx:3\n",
      "( 13 / 306 ) Italian Resturants in City Island, Bronx:3\n",
      "( 14 / 306 ) Italian Resturants in Bedford Park, Bronx:0\n",
      "( 15 / 306 ) Italian Resturants in University Heights, Bronx:0\n",
      "( 16 / 306 ) Italian Resturants in Morris Heights, Bronx:0\n",
      "( 17 / 306 ) Italian Resturants in Fordham, Bronx:8\n",
      "( 18 / 306 ) Italian Resturants in East Tremont, Bronx:0\n",
      "( 19 / 306 ) Italian Resturants in West Farms, Bronx:0\n",
      "( 20 / 306 ) Italian Resturants in High  Bridge, Bronx:0\n",
      "( 21 / 306 ) Italian Resturants in Melrose, Bronx:2\n",
      "( 22 / 306 ) Italian Resturants in Mott Haven, Bronx:1\n",
      "( 23 / 306 ) Italian Resturants in Port Morris, Bronx:0\n",
      "( 24 / 306 ) Italian Resturants in Longwood, Bronx:0\n",
      "( 25 / 306 ) Italian Resturants in Hunts Point, Bronx:0\n",
      "( 26 / 306 ) Italian Resturants in Morrisania, Bronx:1\n",
      "( 27 / 306 ) Italian Resturants in Soundview, Bronx:0\n",
      "( 28 / 306 ) Italian Resturants in Clason Point, Bronx:0\n",
      "( 29 / 306 ) Italian Resturants in Throgs Neck, Bronx:6\n",
      "( 30 / 306 ) Italian Resturants in Country Club, Bronx:3\n",
      "( 31 / 306 ) Italian Resturants in Parkchester, Bronx:0\n",
      "( 32 / 306 ) Italian Resturants in Westchester Square, Bronx:0\n",
      "( 33 / 306 ) Italian Resturants in Van Nest, Bronx:3\n",
      "( 34 / 306 ) Italian Resturants in Morris Park, Bronx:5\n",
      "( 35 / 306 ) Italian Resturants in Belmont, Bronx:14\n",
      "( 36 / 306 ) Italian Resturants in Spuyten Duyvil, Bronx:1\n",
      "( 37 / 306 ) Italian Resturants in North Riverdale, Bronx:2\n",
      "( 38 / 306 ) Italian Resturants in Pelham Bay, Bronx:4\n",
      "( 39 / 306 ) Italian Resturants in Schuylerville, Bronx:3\n",
      "( 40 / 306 ) Italian Resturants in Edgewater Park, Bronx:6\n",
      "( 41 / 306 ) Italian Resturants in Castle Hill, Bronx:0\n",
      "( 42 / 306 ) Italian Resturants in Olinville, Bronx:0\n",
      "( 43 / 306 ) Italian Resturants in Pelham Gardens, Bronx:1\n",
      "( 44 / 306 ) Italian Resturants in Concourse, Bronx:1\n",
      "( 45 / 306 ) Italian Resturants in Unionport, Bronx:0\n",
      "( 46 / 306 ) Italian Resturants in Edenwald, Bronx:0\n",
      "( 47 / 306 ) Italian Resturants in Bay Ridge, Brooklyn:7\n",
      "( 48 / 306 ) Italian Resturants in Bensonhurst, Brooklyn:3\n",
      "( 49 / 306 ) Italian Resturants in Sunset Park, Brooklyn:1\n",
      "( 50 / 306 ) Italian Resturants in Greenpoint, Brooklyn:2\n",
      "( 51 / 306 ) Italian Resturants in Gravesend, Brooklyn:1\n",
      "( 52 / 306 ) Italian Resturants in Brighton Beach, Brooklyn:0\n",
      "( 53 / 306 ) Italian Resturants in Sheepshead Bay, Brooklyn:6\n",
      "( 54 / 306 ) Italian Resturants in Manhattan Terrace, Brooklyn:0\n",
      "( 55 / 306 ) Italian Resturants in Flatbush, Brooklyn:1\n",
      "( 56 / 306 ) Italian Resturants in Crown Heights, Brooklyn:0\n",
      "( 57 / 306 ) Italian Resturants in East Flatbush, Brooklyn:0\n",
      "( 58 / 306 ) Italian Resturants in Kensington, Brooklyn:0\n",
      "( 59 / 306 ) Italian Resturants in Windsor Terrace, Brooklyn:5\n",
      "( 60 / 306 ) Italian Resturants in Prospect Heights, Brooklyn:1\n",
      "( 61 / 306 ) Italian Resturants in Brownsville, Brooklyn:0\n",
      "( 62 / 306 ) Italian Resturants in Williamsburg, Brooklyn:0\n",
      "( 63 / 306 ) Italian Resturants in Bushwick, Brooklyn:3\n",
      "( 64 / 306 ) Italian Resturants in Bedford Stuyvesant, Brooklyn:0\n",
      "( 65 / 306 ) Italian Resturants in Brooklyn Heights, Brooklyn:5\n",
      "( 66 / 306 ) Italian Resturants in Cobble Hill, Brooklyn:6\n",
      "( 67 / 306 ) Italian Resturants in Carroll Gardens, Brooklyn:7\n",
      "( 68 / 306 ) Italian Resturants in Red Hook, Brooklyn:0\n",
      "( 69 / 306 ) Italian Resturants in Gowanus, Brooklyn:4\n",
      "( 70 / 306 ) Italian Resturants in Fort Greene, Brooklyn:6\n",
      "( 71 / 306 ) Italian Resturants in Park Slope, Brooklyn:2\n",
      "( 72 / 306 ) Italian Resturants in Cypress Hills, Brooklyn:0\n",
      "( 73 / 306 ) Italian Resturants in East New York, Brooklyn:0\n",
      "( 74 / 306 ) Italian Resturants in Starrett City, Brooklyn:1\n",
      "( 75 / 306 ) Italian Resturants in Canarsie, Brooklyn:0\n",
      "( 76 / 306 ) Italian Resturants in Flatlands, Brooklyn:1\n",
      "( 77 / 306 ) Italian Resturants in Mill Island, Brooklyn:0\n",
      "( 78 / 306 ) Italian Resturants in Manhattan Beach, Brooklyn:6\n",
      "( 79 / 306 ) Italian Resturants in Coney Island, Brooklyn:1\n",
      "( 80 / 306 ) Italian Resturants in Bath Beach, Brooklyn:3\n",
      "( 81 / 306 ) Italian Resturants in Borough Park, Brooklyn:0\n",
      "( 82 / 306 ) Italian Resturants in Dyker Heights, Brooklyn:2\n",
      "( 83 / 306 ) Italian Resturants in Gerritsen Beach, Brooklyn:1\n",
      "( 84 / 306 ) Italian Resturants in Marine Park, Brooklyn:2\n",
      "( 85 / 306 ) Italian Resturants in Clinton Hill, Brooklyn:6\n",
      "( 86 / 306 ) Italian Resturants in Sea Gate, Brooklyn:0\n",
      "( 87 / 306 ) Italian Resturants in Downtown, Brooklyn:1\n",
      "( 88 / 306 ) Italian Resturants in Boerum Hill, Brooklyn:1\n",
      "( 89 / 306 ) Italian Resturants in Prospect Lefferts Gardens, Brooklyn:2\n",
      "( 90 / 306 ) Italian Resturants in Ocean Hill, Brooklyn:0\n",
      "( 91 / 306 ) Italian Resturants in City Line, Brooklyn:0\n",
      "( 92 / 306 ) Italian Resturants in Bergen Beach, Brooklyn:1\n",
      "( 93 / 306 ) Italian Resturants in Midwood, Brooklyn:2\n",
      "( 94 / 306 ) Italian Resturants in Prospect Park South, Brooklyn:1\n",
      "( 95 / 306 ) Italian Resturants in Georgetown, Brooklyn:4\n",
      "( 96 / 306 ) Italian Resturants in East Williamsburg, Brooklyn:3\n",
      "( 97 / 306 ) Italian Resturants in North Side, Brooklyn:1\n",
      "( 98 / 306 ) Italian Resturants in South Side, Brooklyn:0\n",
      "( 99 / 306 ) Italian Resturants in Ocean Parkway, Brooklyn:2\n",
      "( 100 / 306 ) Italian Resturants in Fort Hamilton, Brooklyn:4\n",
      "( 101 / 306 ) Italian Resturants in Chinatown, Manhattan:0\n",
      "( 102 / 306 ) Italian Resturants in Washington Heights, Manhattan:1\n",
      "( 103 / 306 ) Italian Resturants in Inwood, Manhattan:0\n",
      "( 104 / 306 ) Italian Resturants in Hamilton Heights, Manhattan:2\n",
      "( 105 / 306 ) Italian Resturants in Manhattanville, Manhattan:4\n",
      "( 106 / 306 ) Italian Resturants in Central Harlem, Manhattan:1\n",
      "( 107 / 306 ) Italian Resturants in East Harlem, Manhattan:3\n",
      "( 108 / 306 ) Italian Resturants in Upper East Side, Manhattan:6\n",
      "( 109 / 306 ) Italian Resturants in Yorkville, Manhattan:9\n",
      "( 110 / 306 ) Italian Resturants in Lenox Hill, Manhattan:4\n",
      "( 111 / 306 ) Italian Resturants in Roosevelt Island, Manhattan:2\n",
      "( 112 / 306 ) Italian Resturants in Upper West Side, Manhattan:5\n",
      "( 113 / 306 ) Italian Resturants in Lincoln Square, Manhattan:4\n",
      "( 114 / 306 ) Italian Resturants in Clinton, Manhattan:2\n",
      "( 115 / 306 ) Italian Resturants in Midtown, Manhattan:3\n",
      "( 116 / 306 ) Italian Resturants in Murray Hill, Manhattan:1\n",
      "( 117 / 306 ) Italian Resturants in Chelsea, Manhattan:3\n",
      "( 118 / 306 ) Italian Resturants in Greenwich Village, Manhattan:10\n",
      "( 119 / 306 ) Italian Resturants in East Village, Manhattan:1\n",
      "( 120 / 306 ) Italian Resturants in Lower East Side, Manhattan:5\n",
      "( 121 / 306 ) Italian Resturants in Tribeca, Manhattan:3\n",
      "( 122 / 306 ) Italian Resturants in Little Italy, Manhattan:2\n",
      "( 123 / 306 ) Italian Resturants in Soho, Manhattan:6\n",
      "( 124 / 306 ) Italian Resturants in West Village, Manhattan:9\n",
      "( 125 / 306 ) Italian Resturants in Manhattan Valley, Manhattan:2\n",
      "( 126 / 306 ) Italian Resturants in Morningside Heights, Manhattan:5\n",
      "( 127 / 306 ) Italian Resturants in Gramercy, Manhattan:2\n",
      "( 128 / 306 ) Italian Resturants in Battery Park City, Manhattan:1\n",
      "( 129 / 306 ) Italian Resturants in Financial District, Manhattan:0\n",
      "( 130 / 306 ) Italian Resturants in Astoria, Queens:2\n",
      "( 131 / 306 ) Italian Resturants in Woodside, Queens:0\n",
      "( 132 / 306 ) Italian Resturants in Jackson Heights, Queens:1\n",
      "( 133 / 306 ) Italian Resturants in Elmhurst, Queens:0\n",
      "( 134 / 306 ) Italian Resturants in Howard Beach, Queens:5\n",
      "( 135 / 306 ) Italian Resturants in Corona, Queens:2\n",
      "( 136 / 306 ) Italian Resturants in Forest Hills, Queens:2\n",
      "( 137 / 306 ) Italian Resturants in Kew Gardens, Queens:1\n",
      "( 138 / 306 ) Italian Resturants in Richmond Hill, Queens:1\n",
      "( 139 / 306 ) Italian Resturants in Flushing, Queens:0\n",
      "( 140 / 306 ) Italian Resturants in Long Island City, Queens:3\n",
      "( 141 / 306 ) Italian Resturants in Sunnyside, Queens:2\n",
      "( 142 / 306 ) Italian Resturants in East Elmhurst, Queens:1\n",
      "( 143 / 306 ) Italian Resturants in Maspeth, Queens:1\n",
      "( 144 / 306 ) Italian Resturants in Ridgewood, Queens:3\n",
      "( 145 / 306 ) Italian Resturants in Glendale, Queens:1\n",
      "( 146 / 306 ) Italian Resturants in Rego Park, Queens:1\n",
      "( 147 / 306 ) Italian Resturants in Woodhaven, Queens:0\n",
      "( 148 / 306 ) Italian Resturants in Ozone Park, Queens:1\n",
      "( 149 / 306 ) Italian Resturants in South Ozone Park, Queens:1\n",
      "( 150 / 306 ) Italian Resturants in College Point, Queens:1\n",
      "( 151 / 306 ) Italian Resturants in Whitestone, Queens:5\n",
      "( 152 / 306 ) Italian Resturants in Bayside, Queens:3\n",
      "( 153 / 306 ) Italian Resturants in Auburndale, Queens:1\n",
      "( 154 / 306 ) Italian Resturants in Little Neck, Queens:6\n",
      "( 155 / 306 ) Italian Resturants in Douglaston, Queens:5\n",
      "( 156 / 306 ) Italian Resturants in Glen Oaks, Queens:1\n",
      "( 157 / 306 ) Italian Resturants in Bellerose, Queens:2\n",
      "( 158 / 306 ) Italian Resturants in Kew Gardens Hills, Queens:0\n",
      "( 159 / 306 ) Italian Resturants in Fresh Meadows, Queens:0\n",
      "( 160 / 306 ) Italian Resturants in Briarwood, Queens:0\n",
      "( 161 / 306 ) Italian Resturants in Jamaica Center, Queens:0\n",
      "( 162 / 306 ) Italian Resturants in Oakland Gardens, Queens:2\n",
      "( 163 / 306 ) Italian Resturants in Queens Village, Queens:0\n",
      "( 164 / 306 ) Italian Resturants in Hollis, Queens:0\n",
      "( 165 / 306 ) Italian Resturants in South Jamaica, Queens:0\n",
      "( 166 / 306 ) Italian Resturants in St. Albans, Queens:0\n",
      "( 167 / 306 ) Italian Resturants in Rochdale, Queens:0\n",
      "( 168 / 306 ) Italian Resturants in Springfield Gardens, Queens:0\n",
      "( 169 / 306 ) Italian Resturants in Cambria Heights, Queens:0\n",
      "( 170 / 306 ) Italian Resturants in Rosedale, Queens:0\n",
      "( 171 / 306 ) Italian Resturants in Far Rockaway, Queens:0\n",
      "( 172 / 306 ) Italian Resturants in Broad Channel, Queens:0\n",
      "( 173 / 306 ) Italian Resturants in Breezy Point, Queens:0\n",
      "( 174 / 306 ) Italian Resturants in Steinway, Queens:5\n",
      "( 175 / 306 ) Italian Resturants in Beechhurst, Queens:5\n",
      "( 176 / 306 ) Italian Resturants in Bay Terrace, Queens:2\n",
      "( 177 / 306 ) Italian Resturants in Edgemere, Queens:0\n",
      "( 178 / 306 ) Italian Resturants in Arverne, Queens:0\n",
      "( 179 / 306 ) Italian Resturants in Rockaway Beach, Queens:0\n",
      "( 180 / 306 ) Italian Resturants in Neponsit, Queens:1\n",
      "( 181 / 306 ) Italian Resturants in Murray Hill, Queens:0\n",
      "( 182 / 306 ) Italian Resturants in Floral Park, Queens:1\n",
      "( 183 / 306 ) Italian Resturants in Holliswood, Queens:0\n",
      "( 184 / 306 ) Italian Resturants in Jamaica Estates, Queens:0\n",
      "( 185 / 306 ) Italian Resturants in Queensboro Hill, Queens:0\n",
      "( 186 / 306 ) Italian Resturants in Hillcrest, Queens:2\n",
      "( 187 / 306 ) Italian Resturants in Ravenswood, Queens:5\n",
      "( 188 / 306 ) Italian Resturants in Lindenwood, Queens:2\n",
      "( 189 / 306 ) Italian Resturants in Laurelton, Queens:0\n",
      "( 190 / 306 ) Italian Resturants in Lefrak City, Queens:2\n",
      "( 191 / 306 ) Italian Resturants in Belle Harbor, Queens:1\n",
      "( 192 / 306 ) Italian Resturants in Rockaway Park, Queens:1\n",
      "( 193 / 306 ) Italian Resturants in Somerville, Queens:0\n",
      "( 194 / 306 ) Italian Resturants in Brookville, Queens:0\n",
      "( 195 / 306 ) Italian Resturants in Bellaire, Queens:2\n",
      "( 196 / 306 ) Italian Resturants in North Corona, Queens:0\n",
      "( 197 / 306 ) Italian Resturants in Forest Hills Gardens, Queens:2\n",
      "( 198 / 306 ) Italian Resturants in St. George, Staten Island:4\n",
      "( 199 / 306 ) Italian Resturants in New Brighton, Staten Island:3\n",
      "( 200 / 306 ) Italian Resturants in Stapleton, Staten Island:0\n",
      "( 201 / 306 ) Italian Resturants in Rosebank, Staten Island:4\n",
      "( 202 / 306 ) Italian Resturants in West Brighton, Staten Island:3\n",
      "( 203 / 306 ) Italian Resturants in Grymes Hill, Staten Island:0\n",
      "( 204 / 306 ) Italian Resturants in Todt Hill, Staten Island:0\n",
      "( 205 / 306 ) Italian Resturants in South Beach, Staten Island:0\n",
      "( 206 / 306 ) Italian Resturants in Port Richmond, Staten Island:0\n",
      "( 207 / 306 ) Italian Resturants in Mariner's Harbor, Staten Island:2\n",
      "( 208 / 306 ) Italian Resturants in Port Ivory, Staten Island:0\n",
      "( 209 / 306 ) Italian Resturants in Castleton Corners, Staten Island:2\n",
      "( 210 / 306 ) Italian Resturants in New Springville, Staten Island:0\n",
      "( 211 / 306 ) Italian Resturants in Travis, Staten Island:1\n",
      "( 212 / 306 ) Italian Resturants in New Dorp, Staten Island:5\n",
      "( 213 / 306 ) Italian Resturants in Oakwood, Staten Island:1\n",
      "( 214 / 306 ) Italian Resturants in Great Kills, Staten Island:7\n",
      "( 215 / 306 ) Italian Resturants in Eltingville, Staten Island:4\n",
      "( 216 / 306 ) Italian Resturants in Annadale, Staten Island:0\n",
      "( 217 / 306 ) Italian Resturants in Woodrow, Staten Island:0\n",
      "( 218 / 306 ) Italian Resturants in Tottenville, Staten Island:6\n",
      "( 219 / 306 ) Italian Resturants in Tompkinsville, Staten Island:3\n",
      "( 220 / 306 ) Italian Resturants in Silver Lake, Staten Island:0\n",
      "( 221 / 306 ) Italian Resturants in Sunnyside, Staten Island:1\n",
      "( 222 / 306 ) Italian Resturants in Ditmas Park, Brooklyn:1\n",
      "( 223 / 306 ) Italian Resturants in Wingate, Brooklyn:0\n",
      "( 224 / 306 ) Italian Resturants in Rugby, Brooklyn:0\n",
      "( 225 / 306 ) Italian Resturants in Park Hill, Staten Island:1\n",
      "( 226 / 306 ) Italian Resturants in Westerleigh, Staten Island:1\n",
      "( 227 / 306 ) Italian Resturants in Graniteville, Staten Island:1\n",
      "( 228 / 306 ) Italian Resturants in Arlington, Staten Island:0\n",
      "( 229 / 306 ) Italian Resturants in Arrochar, Staten Island:2\n",
      "( 230 / 306 ) Italian Resturants in Grasmere, Staten Island:5\n",
      "( 231 / 306 ) Italian Resturants in Old Town, Staten Island:8\n",
      "( 232 / 306 ) Italian Resturants in Dongan Hills, Staten Island:7\n",
      "( 233 / 306 ) Italian Resturants in Midland Beach, Staten Island:0\n",
      "( 234 / 306 ) Italian Resturants in Grant City, Staten Island:5\n",
      "( 235 / 306 ) Italian Resturants in New Dorp Beach, Staten Island:2\n",
      "( 236 / 306 ) Italian Resturants in Bay Terrace, Staten Island:4\n",
      "( 237 / 306 ) Italian Resturants in Huguenot, Staten Island:1\n",
      "( 238 / 306 ) Italian Resturants in Pleasant Plains, Staten Island:0\n",
      "( 239 / 306 ) Italian Resturants in Butler Manor, Staten Island:0\n",
      "( 240 / 306 ) Italian Resturants in Charleston, Staten Island:3\n",
      "( 241 / 306 ) Italian Resturants in Rossville, Staten Island:0\n",
      "( 242 / 306 ) Italian Resturants in Arden Heights, Staten Island:1\n",
      "( 243 / 306 ) Italian Resturants in Greenridge, Staten Island:1\n",
      "( 244 / 306 ) Italian Resturants in Heartland Village, Staten Island:0\n",
      "( 245 / 306 ) Italian Resturants in Chelsea, Staten Island:1\n",
      "( 246 / 306 ) Italian Resturants in Bloomfield, Staten Island:0\n",
      "( 247 / 306 ) Italian Resturants in Bulls Head, Staten Island:1\n",
      "( 248 / 306 ) Italian Resturants in Carnegie Hill, Manhattan:4\n",
      "( 249 / 306 ) Italian Resturants in Noho, Manhattan:5\n",
      "( 250 / 306 ) Italian Resturants in Civic Center, Manhattan:2\n",
      "( 251 / 306 ) Italian Resturants in Midtown South, Manhattan:3\n",
      "( 252 / 306 ) Italian Resturants in Richmond Town, Staten Island:3\n",
      "( 253 / 306 ) Italian Resturants in Shore Acres, Staten Island:4\n",
      "( 254 / 306 ) Italian Resturants in Clifton, Staten Island:2\n",
      "( 255 / 306 ) Italian Resturants in Concord, Staten Island:5\n",
      "( 256 / 306 ) Italian Resturants in Emerson Hill, Staten Island:2\n",
      "( 257 / 306 ) Italian Resturants in Randall Manor, Staten Island:1\n",
      "( 258 / 306 ) Italian Resturants in Howland Hook, Staten Island:0\n",
      "( 259 / 306 ) Italian Resturants in Elm Park, Staten Island:1\n",
      "( 260 / 306 ) Italian Resturants in Remsen Village, Brooklyn:1\n",
      "( 261 / 306 ) Italian Resturants in New Lots, Brooklyn:0\n",
      "( 262 / 306 ) Italian Resturants in Paerdegat Basin, Brooklyn:0\n",
      "( 263 / 306 ) Italian Resturants in Mill Basin, Brooklyn:3\n",
      "( 264 / 306 ) Italian Resturants in Jamaica Hills, Queens:0\n",
      "( 265 / 306 ) Italian Resturants in Utopia, Queens:1\n",
      "( 266 / 306 ) Italian Resturants in Pomonok, Queens:0\n",
      "( 267 / 306 ) Italian Resturants in Astoria Heights, Queens:3\n",
      "( 268 / 306 ) Italian Resturants in Claremont Village, Bronx:0\n",
      "( 269 / 306 ) Italian Resturants in Concourse Village, Bronx:2\n",
      "( 270 / 306 ) Italian Resturants in Mount Eden, Bronx:0\n",
      "( 271 / 306 ) Italian Resturants in Mount Hope, Bronx:0\n",
      "( 272 / 306 ) Italian Resturants in Sutton Place, Manhattan:4\n",
      "( 273 / 306 ) Italian Resturants in Hunters Point, Queens:5\n",
      "( 274 / 306 ) Italian Resturants in Turtle Bay, Manhattan:3\n",
      "( 275 / 306 ) Italian Resturants in Tudor City, Manhattan:1\n",
      "( 276 / 306 ) Italian Resturants in Stuyvesant Town, Manhattan:2\n",
      "( 277 / 306 ) Italian Resturants in Flatiron, Manhattan:2\n",
      "( 278 / 306 ) Italian Resturants in Sunnyside Gardens, Queens:2\n",
      "( 279 / 306 ) Italian Resturants in Blissville, Queens:0\n",
      "( 280 / 306 ) Italian Resturants in Fulton Ferry, Brooklyn:2\n",
      "( 281 / 306 ) Italian Resturants in Vinegar Hill, Brooklyn:2\n",
      "( 282 / 306 ) Italian Resturants in Weeksville, Brooklyn:0\n",
      "( 283 / 306 ) Italian Resturants in Broadway Junction, Brooklyn:0\n",
      "( 284 / 306 ) Italian Resturants in Dumbo, Brooklyn:2\n",
      "( 285 / 306 ) Italian Resturants in Manor Heights, Staten Island:0\n",
      "( 286 / 306 ) Italian Resturants in Willowbrook, Staten Island:1\n",
      "( 287 / 306 ) Italian Resturants in Sandy Ground, Staten Island:0\n",
      "( 288 / 306 ) Italian Resturants in Egbertville, Staten Island:1\n",
      "( 289 / 306 ) Italian Resturants in Roxbury, Queens:0\n",
      "( 290 / 306 ) Italian Resturants in Homecrest, Brooklyn:1\n",
      "( 291 / 306 ) Italian Resturants in Middle Village, Queens:1\n",
      "( 292 / 306 ) Italian Resturants in Prince's Bay, Staten Island:1\n",
      "( 293 / 306 ) Italian Resturants in Lighthouse Hill, Staten Island:2\n",
      "( 294 / 306 ) Italian Resturants in Richmond Valley, Staten Island:2\n",
      "( 295 / 306 ) Italian Resturants in Malba, Queens:1\n",
      "( 296 / 306 ) Italian Resturants in Highland Park, Brooklyn:0\n",
      "( 297 / 306 ) Italian Resturants in Madison, Brooklyn:1\n",
      "( 298 / 306 ) Italian Resturants in Bronxdale, Bronx:6\n",
      "( 299 / 306 ) Italian Resturants in Allerton, Bronx:0\n",
      "( 300 / 306 ) Italian Resturants in Kingsbridge Heights, Bronx:0\n",
      "( 301 / 306 ) Italian Resturants in Erasmus, Brooklyn:0\n",
      "( 302 / 306 ) Italian Resturants in Hudson Yards, Manhattan:6\n",
      "( 303 / 306 ) Italian Resturants in Hammels, Queens:0\n",
      "( 304 / 306 ) Italian Resturants in Bayswater, Queens:0\n",
      "( 305 / 306 ) Italian Resturants in Queensbridge, Queens:3\n",
      "( 306 / 306 ) Italian Resturants in Fox Hills, Staten Island:0\n"
     ]
    }
   ],
   "source": [
    "# prepare neighborhood list that contains italian resturants\n",
    "column_names=['Borough', 'Neighborhood', 'ID','Name']\n",
    "Italian_rest_ny=pd.DataFrame(columns=column_names)\n",
    "count=1\n",
    "for row in new_york_data.values.tolist():\n",
    "    Borough, Neighborhood, Latitude, Longitude=row\n",
    "    venues = get_venues(Latitude,Longitude)\n",
    "    Italian_resturants=venues[venues['Category']=='Italian Restaurant']   \n",
    "    print('(',count,'/',len(new_york_data),')','Italian Resturants in '+Neighborhood+', '+Borough+':'+str(len(Italian_resturants)))\n",
    "    for resturant_detail in Italian_resturants.values.tolist():\n",
    "        id, name , category=resturant_detail\n",
    "        Italian_rest_ny = Italian_rest_ny.append({'Borough': Borough,\n",
    "                                                'Neighborhood': Neighborhood, \n",
    "                                                'ID': id,\n",
    "                                                'Name' : name\n",
    "                                               }, ignore_index=True)\n",
    "    count+=1"
   ]
  },
  {
   "cell_type": "markdown",
   "metadata": {},
   "source": [
    "Now that we have got all the italian resturants in new york city , we will analyze it"
   ]
  },
  {
   "cell_type": "code",
   "execution_count": 13,
   "metadata": {},
   "outputs": [
    {
     "data": {
      "text/html": [
       "<div>\n",
       "<style scoped>\n",
       "    .dataframe tbody tr th:only-of-type {\n",
       "        vertical-align: middle;\n",
       "    }\n",
       "\n",
       "    .dataframe tbody tr th {\n",
       "        vertical-align: top;\n",
       "    }\n",
       "\n",
       "    .dataframe thead th {\n",
       "        text-align: right;\n",
       "    }\n",
       "</style>\n",
       "<table border=\"1\" class=\"dataframe\">\n",
       "  <thead>\n",
       "    <tr style=\"text-align: right;\">\n",
       "      <th></th>\n",
       "      <th>Borough</th>\n",
       "      <th>Neighborhood</th>\n",
       "      <th>ID</th>\n",
       "      <th>Name</th>\n",
       "    </tr>\n",
       "  </thead>\n",
       "  <tbody>\n",
       "    <tr>\n",
       "      <th>0</th>\n",
       "      <td>Bronx</td>\n",
       "      <td>Riverdale</td>\n",
       "      <td>55aaee4d498e3cbb70e625d6</td>\n",
       "      <td>Bella Notte Pizzeria</td>\n",
       "    </tr>\n",
       "    <tr>\n",
       "      <th>1</th>\n",
       "      <td>Bronx</td>\n",
       "      <td>Kingsbridge</td>\n",
       "      <td>55aaee4d498e3cbb70e625d6</td>\n",
       "      <td>Bella Notte Pizzeria</td>\n",
       "    </tr>\n",
       "    <tr>\n",
       "      <th>2</th>\n",
       "      <td>Bronx</td>\n",
       "      <td>Woodlawn</td>\n",
       "      <td>511edb6de4b0d58346fd272d</td>\n",
       "      <td>Patrizia's Of Woodlawn</td>\n",
       "    </tr>\n",
       "    <tr>\n",
       "      <th>3</th>\n",
       "      <td>Bronx</td>\n",
       "      <td>Woodlawn</td>\n",
       "      <td>4d3cb3026b3d236a066a6364</td>\n",
       "      <td>Rivers Edge</td>\n",
       "    </tr>\n",
       "    <tr>\n",
       "      <th>4</th>\n",
       "      <td>Bronx</td>\n",
       "      <td>Baychester</td>\n",
       "      <td>4c9518076b35a143d5dc21dc</td>\n",
       "      <td>Fratelli's</td>\n",
       "    </tr>\n",
       "  </tbody>\n",
       "</table>\n",
       "</div>"
      ],
      "text/plain": [
       "  Borough Neighborhood                        ID                    Name\n",
       "0   Bronx    Riverdale  55aaee4d498e3cbb70e625d6    Bella Notte Pizzeria\n",
       "1   Bronx  Kingsbridge  55aaee4d498e3cbb70e625d6    Bella Notte Pizzeria\n",
       "2   Bronx     Woodlawn  511edb6de4b0d58346fd272d  Patrizia's Of Woodlawn\n",
       "3   Bronx     Woodlawn  4d3cb3026b3d236a066a6364             Rivers Edge\n",
       "4   Bronx   Baychester  4c9518076b35a143d5dc21dc              Fratelli's"
      ]
     },
     "execution_count": 13,
     "metadata": {},
     "output_type": "execute_result"
    }
   ],
   "source": [
    "Italian_rest_ny.head()"
   ]
  },
  {
   "cell_type": "code",
   "execution_count": 14,
   "metadata": {},
   "outputs": [
    {
     "data": {
      "text/plain": [
       "(543, 4)"
      ]
     },
     "execution_count": 14,
     "metadata": {},
     "output_type": "execute_result"
    }
   ],
   "source": [
    "Italian_rest_ny.shape"
   ]
  },
  {
   "cell_type": "markdown",
   "metadata": {},
   "source": [
    "We got 543 italian Resturants across New York City"
   ]
  },
  {
   "cell_type": "code",
   "execution_count": 15,
   "metadata": {},
   "outputs": [
    {
     "data": {
      "image/png": "[encoded data removed]",
      "text/plain": [
       "<Figure size 900x500 with 1 Axes>"
      ]
     },
     "metadata": {
      "needs_background": "light"
     },
     "output_type": "display_data"
    }
   ],
   "source": [
    "plt.figure(figsize=(9,5), dpi = 100)\n",
    "# title\n",
    "plt.title('Number of Italian Resturants for each Borough in New York City')\n",
    "#On x-axis\n",
    "plt.xlabel('Borough', fontsize = 15)\n",
    "#On y-axis\n",
    "plt.ylabel('No.of Italian Resturants', fontsize=15)\n",
    "#giving a bar plot\n",
    "Italian_rest_ny.groupby('Borough')['ID'].count().plot(kind='bar')\n",
    "#legend\n",
    "plt.legend()\n",
    "#displays the plot\n",
    "plt.show()"
   ]
  },
  {
   "cell_type": "markdown",
   "metadata": {},
   "source": [
    "We see that Queens has the largest number of italian resturants"
   ]
  },
  {
   "cell_type": "code",
   "execution_count": 16,
   "metadata": {},
   "outputs": [
    {
     "data": {
      "image/png": "[encoded data removed]",
      "text/plain": [
       "<Figure size 900x500 with 1 Axes>"
      ]
     },
     "metadata": {
      "needs_background": "light"
     },
     "output_type": "display_data"
    }
   ],
   "source": [
    "plt.figure(figsize=(9,5), dpi = 100)\n",
    "# title\n",
    "plt.title('Number of Italian Resturants for each Neighborhood in New York City')\n",
    "#On x-axis\n",
    "plt.xlabel('Neighborhood', fontsize = 15)\n",
    "#On y-axis\n",
    "plt.ylabel('No.of Italian Resturants', fontsize=15)\n",
    "#giving a bar plot\n",
    "Italian_rest_ny.groupby('Neighborhood')['ID'].count().nlargest(5).plot(kind='bar')\n",
    "#legend\n",
    "plt.legend()\n",
    "#displays the plot\n",
    "plt.show()"
   ]
  },
  {
   "cell_type": "code",
   "execution_count": 17,
   "metadata": {},
   "outputs": [
    {
     "data": {
      "text/html": [
       "<div>\n",
       "<style scoped>\n",
       "    .dataframe tbody tr th:only-of-type {\n",
       "        vertical-align: middle;\n",
       "    }\n",
       "\n",
       "    .dataframe tbody tr th {\n",
       "        vertical-align: top;\n",
       "    }\n",
       "\n",
       "    .dataframe thead th {\n",
       "        text-align: right;\n",
       "    }\n",
       "</style>\n",
       "<table border=\"1\" class=\"dataframe\">\n",
       "  <thead>\n",
       "    <tr style=\"text-align: right;\">\n",
       "      <th></th>\n",
       "      <th>Borough</th>\n",
       "      <th>Neighborhood</th>\n",
       "      <th>ID</th>\n",
       "      <th>Name</th>\n",
       "    </tr>\n",
       "  </thead>\n",
       "  <tbody>\n",
       "    <tr>\n",
       "      <th>341</th>\n",
       "      <td>Queens</td>\n",
       "      <td>Floral Park</td>\n",
       "      <td>4c450fae74ffc928328676cc</td>\n",
       "      <td>Luigi's Restaurant &amp; Bar</td>\n",
       "    </tr>\n",
       "  </tbody>\n",
       "</table>\n",
       "</div>"
      ],
      "text/plain": [
       "    Borough Neighborhood                        ID                      Name\n",
       "341  Queens  Floral Park  4c450fae74ffc928328676cc  Luigi's Restaurant & Bar"
      ]
     },
     "execution_count": 17,
     "metadata": {},
     "output_type": "execute_result"
    }
   ],
   "source": [
    "Italian_rest_ny[Italian_rest_ny['Neighborhood']=='Floral Park']"
   ]
  },
  {
   "cell_type": "markdown",
   "metadata": {},
   "source": [
    "So Floral Park in Queens has the highest number of italian Resturants with a total count of 9."
   ]
  },
  {
   "cell_type": "markdown",
   "metadata": {},
   "source": [
    "Now we will get the ranking of each resturant for further analysis."
   ]
  },
  {
   "cell_type": "code",
   "execution_count": 20,
   "metadata": {},
   "outputs": [],
   "source": [
    "def get_venue_details(venue_id):\n",
    "        \n",
    "    CLIENT_ID = 'OX13HQ3GH2D4BAACDFXPF2CCBAQVFT0T5BCS3IB20SLJXBY0' # your Foursquare ID\n",
    "    CLIENT_SECRET = 'SRV5VH1V04R4PKDWBF2WKPNK2WOTR2YOSL0AYEIV5KHYHWO5' # your Foursquare Secret\n",
    "    VERSION = '20180605' # Foursquare API version\n",
    "    \n",
    "    #url to fetch data from foursquare api\n",
    "    url = 'https://api.foursquare.com/v2/venues/{}?&client_id={}&client_secret={}&v={}'.format(\n",
    "            venue_id,\n",
    "            CLIENT_ID, \n",
    "            CLIENT_SECRET, \n",
    "            VERSION)\n",
    "    \n",
    "    \n",
    "    # get all the data\n",
    "    results = requests.get(url).json()\n",
    "   # print(results)\n",
    "    \n",
    "    \n",
    "    venue_data=results['response']['venue']\n",
    "    venue_details=[]\n",
    "    try:\n",
    "        venue_id=venue_data['id']\n",
    "        venue_name=venue_data['name']\n",
    "        venue_likes=venue_data['likes']['count']\n",
    "        venue_rating=venue_data['rating']\n",
    "        venue_tips=venue_data['tips']['count']\n",
    "        venue_details.append([venue_id,venue_name,venue_likes,venue_rating,venue_tips])\n",
    "    except KeyError:\n",
    "        pass\n",
    "        \n",
    "    column_names=['ID','Name','Likes','Rating','Tips']\n",
    "    df = pd.DataFrame(venue_details,columns=column_names)\n",
    "    return df\n"
   ]
  },
  {
   "cell_type": "code",
   "execution_count": 21,
   "metadata": {
    "scrolled": true
   },
   "outputs": [
    {
     "name": "stdout",
     "output_type": "stream",
     "text": [
      "                         ID                  Name  Likes  Rating  Tips\n",
      "0  55aaee4d498e3cbb70e625d6  Bella Notte Pizzeria      8     7.0     4\n",
      "( 1 / 543 ) processed\n",
      "                         ID                  Name  Likes  Rating  Tips\n",
      "0  55aaee4d498e3cbb70e625d6  Bella Notte Pizzeria      8     7.0     4\n",
      "( 2 / 543 ) processed\n",
      "                         ID                    Name  Likes  Rating  Tips\n",
      "0  511edb6de4b0d58346fd272d  Patrizia's Of Woodlawn     18     8.3    14\n",
      "( 3 / 543 ) processed\n",
      "                         ID         Name  Likes  Rating  Tips\n",
      "0  4d3cb3026b3d236a066a6364  Rivers Edge     10     6.6     7\n",
      "( 4 / 543 ) processed\n",
      "                         ID        Name  Likes  Rating  Tips\n",
      "0  4c9518076b35a143d5dc21dc  Fratelli's     22     8.4     6\n",
      "( 5 / 543 ) processed\n",
      "                         ID          Name  Likes  Rating  Tips\n",
      "0  5411894d498e4a254a11a46c  Olive Garden     27     7.6     8\n",
      "( 6 / 543 ) processed\n",
      "                         ID    Name  Likes  Rating  Tips\n",
      "0  4bf96ae65317a593d837017f  Enzo's     23     8.3    10\n",
      "( 7 / 543 ) processed\n",
      "                         ID        Name  Likes  Rating  Tips\n",
      "0  4b10591af964a5205f6e23e3  Patricia's     83     8.6    37\n",
      "( 8 / 543 ) processed\n",
      "                         ID         Name  Likes  Rating  Tips\n",
      "0  4b47f069f964a5208c4426e3  Pasta Pasta      8     6.5     8\n",
      "( 9 / 543 ) processed\n",
      "                         ID                       Name  Likes  Rating  Tips\n",
      "0  4514ed4df964a520e5391fe3  Artie's Steak and Seafood     42     8.5    26\n",
      "( 10 / 543 ) processed\n",
      "                         ID                      Name  Likes  Rating  Tips\n",
      "0  55905336498e1a9217de2a7a  Scavello's On The Island     14     8.3     2\n",
      "( 11 / 543 ) processed\n",
      "                         ID                  Name  Likes  Rating  Tips\n",
      "0  4b80a1c3f964a520488230e3  Portofino Restaurant     10     6.1    10\n",
      "( 12 / 543 ) processed\n",
      "                         ID                 Name  Likes  Rating  Tips\n",
      "0  4acf80aef964a52025d420e3  Tino's Delicatessen    144     9.3    48\n",
      "( 13 / 543 ) processed\n",
      "                         ID                 Name  Likes  Rating  Tips\n",
      "0  4bb6470cef159c7465b275f7  Calabria Pork Store     26     8.8    13\n",
      "( 14 / 543 ) processed\n",
      "                         ID  \\\n",
      "0  4af71916f964a520cf0522e3   \n",
      "\n",
      "                                                Name  Likes  Rating  Tips  \n",
      "0  Michaelangelo's Coal Fired Brick Oven Pizza Re...     38     8.3    25  \n",
      "( 15 / 543 ) processed\n",
      "                         ID                   Name  Likes  Rating  Tips\n",
      "0  4aa425bef964a5208e4520e3  Dominick's Restaurant    100     8.5    37\n",
      "( 16 / 543 ) processed\n",
      "                         ID    Name  Likes  Rating  Tips\n",
      "0  4b5514c4f964a5207cda27e3  Enzo's     40     8.2    18\n",
      "( 17 / 543 ) processed\n",
      "                         ID                 Name  Likes  Rating  Tips\n",
      "0  4b5a4c8ff964a52049bb28e3  Emilia's Restaurant     33     8.1    15\n",
      "( 18 / 543 ) processed\n",
      "                         ID                Name  Likes  Rating  Tips\n",
      "0  4c9b9e7b9c663704b90463fd  Gerbasi Ristorante     15     7.6    12\n",
      "( 19 / 543 ) processed\n",
      "                         ID  \\\n",
      "0  4bc67f1104e8b713a833362d   \n",
      "\n",
      "                                                Name  Likes  Rating  Tips  \n",
      "0  Ann & Tony's - An Original Arthur Avenue Resta...     12     7.2     8  \n",
      "( 20 / 543 ) processed\n",
      "                         ID         Name  Likes  Rating  Tips\n",
      "0  5956be26123a195de6701c2b  Porto Salvo      8     7.8     5\n",
      "( 21 / 543 ) processed\n",
      "                         ID                          Name  Likes  Rating  Tips\n",
      "0  4bb692672ea19521a6ecab2f  Venice Restaurant & Pizzeria      8     7.3     9\n",
      "( 22 / 543 ) processed\n",
      "                         ID     Name  Likes  Rating  Tips\n",
      "0  4e6acfb1ae60950955a9b02b  Wish 37      3     6.4     6\n",
      "( 23 / 543 ) processed\n",
      "                         ID         Name  Likes  Rating  Tips\n",
      "0  5956be26123a195de6701c2b  Porto Salvo      8     7.8     5\n",
      "( 24 / 543 ) processed\n",
      "                         ID                   Name  Likes  Rating  Tips\n",
      "0  4b4e3e87f964a5209de626e3  Patricia's of Tremont     48     8.2    29\n",
      "( 25 / 543 ) processed\n",
      "                         ID           Name  Likes  Rating  Tips\n",
      "0  4d4456d93616b60c953fe3c2  Tosca Marquee     18     7.3    14\n",
      "( 26 / 543 ) processed\n",
      "                         ID            Name  Likes  Rating  Tips\n",
      "0  4b958fccf964a52091a934e3  Ice House Cafe     11     6.9    14\n",
      "( 27 / 543 ) processed\n",
      "                         ID                        Name  Likes  Rating  Tips\n",
      "0  4c1d717b8b3aa59363a99a5f  Spoto's Italian Restaurant      6     6.6    11\n",
      "( 28 / 543 ) processed\n",
      "                         ID                         Name  Likes  Rating  Tips\n",
      "0  4b6cb1c0f964a520d04c2ce3  Mamma Lucia's Pizza & Pasta      3     6.6    10\n",
      "( 29 / 543 ) processed\n",
      "                         ID                       Name  Likes  Rating  Tips\n",
      "0  4b491198f964a5208f6426e3  Rino's Italian Restaurant      6     6.3     1\n",
      "( 30 / 543 ) processed\n",
      "                         ID                      Name  Likes  Rating  Tips\n",
      "0  4c9e1ef2542b224b70a3f09f  Lucca Italian Restaurant      7     7.4     4\n",
      "( 31 / 543 ) processed\n",
      "                         ID                           Name  Likes  Rating  \\\n",
      "0  4b85b6b3f964a5209b6e31e3  Giovanni's Italian Restaurant     11     7.8   \n",
      "\n",
      "   Tips  \n",
      "0    10  \n",
      "( 32 / 543 ) processed\n",
      "                         ID         Name  Likes  Rating  Tips\n",
      "0  4b634812f964a520936f2ae3  Vito's Deli      5     6.0     5\n",
      "( 33 / 543 ) processed\n",
      "                         ID               Name  Likes  Rating  Tips\n",
      "0  3fd66200f964a5207bf11ee3  F & J Pine Tavern    172     8.8    71\n",
      "( 34 / 543 ) processed\n",
      "                         ID                 Name  Likes  Rating  Tips\n",
      "0  4bd1d5fdcaff95211c6ed1f0  900 Park Restaurant     57     7.5    19\n",
      "( 35 / 543 ) processed\n",
      "                         ID       Name  Likes  Rating  Tips\n",
      "0  51aa5120498ec578a5ad0ac4  The Pines      4     7.0     4\n",
      "( 36 / 543 ) processed\n",
      "                         ID        Name  Likes  Rating  Tips\n",
      "0  4b10591af964a5205f6e23e3  Patricia's     83     8.6    37\n",
      "( 37 / 543 ) processed\n",
      "                         ID    Name  Likes  Rating  Tips\n",
      "0  4bf96ae65317a593d837017f  Enzo's     23     8.3    10\n",
      "( 38 / 543 ) processed\n",
      "                         ID                 Name  Likes  Rating  Tips\n",
      "0  4bd1d5fdcaff95211c6ed1f0  900 Park Restaurant     57     7.5    19\n",
      "( 39 / 543 ) processed\n",
      "                         ID       Name  Likes  Rating  Tips\n",
      "0  51aa5120498ec578a5ad0ac4  The Pines      4     7.0     4\n",
      "( 40 / 543 ) processed\n",
      "                         ID         Name  Likes  Rating  Tips\n",
      "0  4b47f069f964a5208c4426e3  Pasta Pasta      8     6.5     8\n",
      "( 41 / 543 ) processed\n",
      "                         ID                 Name  Likes  Rating  Tips\n",
      "0  4acf80aef964a52025d420e3  Tino's Delicatessen    144     9.3    48\n",
      "( 42 / 543 ) processed\n",
      "                         ID  \\\n",
      "0  4af71916f964a520cf0522e3   \n",
      "\n",
      "                                                Name  Likes  Rating  Tips  \n",
      "0  Michaelangelo's Coal Fired Brick Oven Pizza Re...     38     8.3    25  \n",
      "( 43 / 543 ) processed\n",
      "                         ID                 Name  Likes  Rating  Tips\n",
      "0  4bb6470cef159c7465b275f7  Calabria Pork Store     26     8.8    13\n",
      "( 44 / 543 ) processed\n",
      "                         ID                 Name  Likes  Rating  Tips\n",
      "0  4af0fa29f964a52060e021e3  Antonio's Trattoria    109     8.9    38\n",
      "( 45 / 543 ) processed\n",
      "                         ID                   Name  Likes  Rating  Tips\n",
      "0  4aa425bef964a5208e4520e3  Dominick's Restaurant    100     8.5    37\n",
      "( 46 / 543 ) processed\n",
      "                         ID    Name  Likes  Rating  Tips\n",
      "0  4b5514c4f964a5207cda27e3  Enzo's     40     8.2    18\n",
      "( 47 / 543 ) processed\n",
      "                         ID     Name  Likes  Rating  Tips\n",
      "0  4a8e261cf964a5201c1220e3  Roberto     63     8.5    23\n",
      "( 48 / 543 ) processed\n",
      "                         ID                           Name  Likes  Rating  \\\n",
      "0  4aa193d5f964a520124120e3  Mario's Restaurant & Catering     54     8.1   \n",
      "\n",
      "   Tips  \n",
      "0    26  \n",
      "( 49 / 543 ) processed\n"
     ]
    }
   ],
   "source": [
    "# prepare neighborhood list that contains italian resturants\n",
    "column_names=['Borough', 'Neighborhood', 'ID','Name','Likes','Rating','Tips']\n",
    "Italian_rest_stats_ny=pd.DataFrame(columns=column_names)\n",
    "count=1\n",
    "\n",
    "\n",
    "for row in Italian_rest_ny.values.tolist():\n",
    "    if count==50:\n",
    "        break\n",
    "    Borough,Neighborhood,ID,Name=row\n",
    "    try:\n",
    "        venue_details=get_venue_details(ID)\n",
    "        print(venue_details)\n",
    "        id,name,likes,rating,tips=venue_details.values.tolist()[0]\n",
    "    except IndexError:\n",
    "        print('No data available for id=',ID)\n",
    "        # we will assign 0 value for these resturants as they may have been \n",
    "        #recently opened or details does not exist in FourSquare Database\n",
    "        id,name,likes,rating,tips=[0]*5\n",
    "    print('(',count,'/',len(Italian_rest_ny),')','processed')\n",
    "    Italian_rest_stats_ny = Italian_rest_stats_ny.append({'Borough': Borough,\n",
    "                                                'Neighborhood': Neighborhood, \n",
    "                                                'ID': id,\n",
    "                                                'Name' : name,\n",
    "                                                'Likes' : likes,\n",
    "                                                'Rating' : rating,\n",
    "                                                'Tips' : tips\n",
    "                                               }, ignore_index=True)\n",
    "    count+=1"
   ]
  },
  {
   "cell_type": "code",
   "execution_count": 22,
   "metadata": {},
   "outputs": [
    {
     "data": {
      "text/html": [
       "<div>\n",
       "<style scoped>\n",
       "    .dataframe tbody tr th:only-of-type {\n",
       "        vertical-align: middle;\n",
       "    }\n",
       "\n",
       "    .dataframe tbody tr th {\n",
       "        vertical-align: top;\n",
       "    }\n",
       "\n",
       "    .dataframe thead th {\n",
       "        text-align: right;\n",
       "    }\n",
       "</style>\n",
       "<table border=\"1\" class=\"dataframe\">\n",
       "  <thead>\n",
       "    <tr style=\"text-align: right;\">\n",
       "      <th></th>\n",
       "      <th>Borough</th>\n",
       "      <th>Neighborhood</th>\n",
       "      <th>ID</th>\n",
       "      <th>Name</th>\n",
       "      <th>Likes</th>\n",
       "      <th>Rating</th>\n",
       "      <th>Tips</th>\n",
       "    </tr>\n",
       "  </thead>\n",
       "  <tbody>\n",
       "    <tr>\n",
       "      <th>0</th>\n",
       "      <td>Bronx</td>\n",
       "      <td>Riverdale</td>\n",
       "      <td>55aaee4d498e3cbb70e625d6</td>\n",
       "      <td>Bella Notte Pizzeria</td>\n",
       "      <td>8</td>\n",
       "      <td>7.0</td>\n",
       "      <td>4</td>\n",
       "    </tr>\n",
       "    <tr>\n",
       "      <th>1</th>\n",
       "      <td>Bronx</td>\n",
       "      <td>Kingsbridge</td>\n",
       "      <td>55aaee4d498e3cbb70e625d6</td>\n",
       "      <td>Bella Notte Pizzeria</td>\n",
       "      <td>8</td>\n",
       "      <td>7.0</td>\n",
       "      <td>4</td>\n",
       "    </tr>\n",
       "    <tr>\n",
       "      <th>2</th>\n",
       "      <td>Bronx</td>\n",
       "      <td>Woodlawn</td>\n",
       "      <td>511edb6de4b0d58346fd272d</td>\n",
       "      <td>Patrizia's Of Woodlawn</td>\n",
       "      <td>18</td>\n",
       "      <td>8.3</td>\n",
       "      <td>14</td>\n",
       "    </tr>\n",
       "    <tr>\n",
       "      <th>3</th>\n",
       "      <td>Bronx</td>\n",
       "      <td>Woodlawn</td>\n",
       "      <td>4d3cb3026b3d236a066a6364</td>\n",
       "      <td>Rivers Edge</td>\n",
       "      <td>10</td>\n",
       "      <td>6.6</td>\n",
       "      <td>7</td>\n",
       "    </tr>\n",
       "    <tr>\n",
       "      <th>4</th>\n",
       "      <td>Bronx</td>\n",
       "      <td>Baychester</td>\n",
       "      <td>4c9518076b35a143d5dc21dc</td>\n",
       "      <td>Fratelli's</td>\n",
       "      <td>22</td>\n",
       "      <td>8.4</td>\n",
       "      <td>6</td>\n",
       "    </tr>\n",
       "  </tbody>\n",
       "</table>\n",
       "</div>"
      ],
      "text/plain": [
       "  Borough Neighborhood                        ID                    Name  \\\n",
       "0   Bronx    Riverdale  55aaee4d498e3cbb70e625d6    Bella Notte Pizzeria   \n",
       "1   Bronx  Kingsbridge  55aaee4d498e3cbb70e625d6    Bella Notte Pizzeria   \n",
       "2   Bronx     Woodlawn  511edb6de4b0d58346fd272d  Patrizia's Of Woodlawn   \n",
       "3   Bronx     Woodlawn  4d3cb3026b3d236a066a6364             Rivers Edge   \n",
       "4   Bronx   Baychester  4c9518076b35a143d5dc21dc              Fratelli's   \n",
       "\n",
       "  Likes  Rating Tips  \n",
       "0     8     7.0    4  \n",
       "1     8     7.0    4  \n",
       "2    18     8.3   14  \n",
       "3    10     6.6    7  \n",
       "4    22     8.4    6  "
      ]
     },
     "execution_count": 22,
     "metadata": {},
     "output_type": "execute_result"
    }
   ],
   "source": [
    "Italian_rest_stats_ny.head()"
   ]
  },
  {
   "cell_type": "code",
   "execution_count": 23,
   "metadata": {},
   "outputs": [
    {
     "data": {
      "text/plain": [
       "(49, 7)"
      ]
     },
     "execution_count": 23,
     "metadata": {},
     "output_type": "execute_result"
    }
   ],
   "source": [
    "Italian_rest_stats_ny.shape"
   ]
  },
  {
   "cell_type": "code",
   "execution_count": 24,
   "metadata": {},
   "outputs": [
    {
     "data": {
      "text/plain": [
       "(543, 4)"
      ]
     },
     "execution_count": 24,
     "metadata": {},
     "output_type": "execute_result"
    }
   ],
   "source": [
    "Italian_rest_ny.shape"
   ]
  },
  {
   "cell_type": "markdown",
   "metadata": {},
   "source": [
    "So we got data for all resturants\n",
    "Now lets save this data to a csv sheet. In case we by mistake modify it.\n",
    "As the number of calls to get details for venue are premium call and have limit of 500 per day, we will refer to saved data sheet csv if required"
   ]
  },
  {
   "cell_type": "code",
   "execution_count": 25,
   "metadata": {},
   "outputs": [],
   "source": [
    "Italian_rest_stats_ny.to_csv('Italian_rest_stats_ny.csv', index=False)"
   ]
  },
  {
   "cell_type": "markdown",
   "metadata": {},
   "source": [
    "Lets verify the data from saved csv file"
   ]
  },
  {
   "cell_type": "code",
   "execution_count": 26,
   "metadata": {},
   "outputs": [],
   "source": [
    "Italian_rest_stats_ny_csv=pd.read_csv('Italian_rest_stats_ny.csv')"
   ]
  },
  {
   "cell_type": "code",
   "execution_count": 27,
   "metadata": {},
   "outputs": [
    {
     "data": {
      "text/plain": [
       "(49, 7)"
      ]
     },
     "execution_count": 27,
     "metadata": {},
     "output_type": "execute_result"
    }
   ],
   "source": [
    "Italian_rest_stats_ny_csv.shape"
   ]
  },
  {
   "cell_type": "code",
   "execution_count": 28,
   "metadata": {},
   "outputs": [
    {
     "data": {
      "text/html": [
       "<div>\n",
       "<style scoped>\n",
       "    .dataframe tbody tr th:only-of-type {\n",
       "        vertical-align: middle;\n",
       "    }\n",
       "\n",
       "    .dataframe tbody tr th {\n",
       "        vertical-align: top;\n",
       "    }\n",
       "\n",
       "    .dataframe thead th {\n",
       "        text-align: right;\n",
       "    }\n",
       "</style>\n",
       "<table border=\"1\" class=\"dataframe\">\n",
       "  <thead>\n",
       "    <tr style=\"text-align: right;\">\n",
       "      <th></th>\n",
       "      <th>Borough</th>\n",
       "      <th>Neighborhood</th>\n",
       "      <th>ID</th>\n",
       "      <th>Name</th>\n",
       "      <th>Likes</th>\n",
       "      <th>Rating</th>\n",
       "      <th>Tips</th>\n",
       "    </tr>\n",
       "  </thead>\n",
       "  <tbody>\n",
       "    <tr>\n",
       "      <th>0</th>\n",
       "      <td>Bronx</td>\n",
       "      <td>Riverdale</td>\n",
       "      <td>55aaee4d498e3cbb70e625d6</td>\n",
       "      <td>Bella Notte Pizzeria</td>\n",
       "      <td>8</td>\n",
       "      <td>7.0</td>\n",
       "      <td>4</td>\n",
       "    </tr>\n",
       "    <tr>\n",
       "      <th>1</th>\n",
       "      <td>Bronx</td>\n",
       "      <td>Kingsbridge</td>\n",
       "      <td>55aaee4d498e3cbb70e625d6</td>\n",
       "      <td>Bella Notte Pizzeria</td>\n",
       "      <td>8</td>\n",
       "      <td>7.0</td>\n",
       "      <td>4</td>\n",
       "    </tr>\n",
       "    <tr>\n",
       "      <th>2</th>\n",
       "      <td>Bronx</td>\n",
       "      <td>Woodlawn</td>\n",
       "      <td>511edb6de4b0d58346fd272d</td>\n",
       "      <td>Patrizia's Of Woodlawn</td>\n",
       "      <td>18</td>\n",
       "      <td>8.3</td>\n",
       "      <td>14</td>\n",
       "    </tr>\n",
       "    <tr>\n",
       "      <th>3</th>\n",
       "      <td>Bronx</td>\n",
       "      <td>Woodlawn</td>\n",
       "      <td>4d3cb3026b3d236a066a6364</td>\n",
       "      <td>Rivers Edge</td>\n",
       "      <td>10</td>\n",
       "      <td>6.6</td>\n",
       "      <td>7</td>\n",
       "    </tr>\n",
       "    <tr>\n",
       "      <th>4</th>\n",
       "      <td>Bronx</td>\n",
       "      <td>Baychester</td>\n",
       "      <td>4c9518076b35a143d5dc21dc</td>\n",
       "      <td>Fratelli's</td>\n",
       "      <td>22</td>\n",
       "      <td>8.4</td>\n",
       "      <td>6</td>\n",
       "    </tr>\n",
       "  </tbody>\n",
       "</table>\n",
       "</div>"
      ],
      "text/plain": [
       "  Borough Neighborhood                        ID                    Name  \\\n",
       "0   Bronx    Riverdale  55aaee4d498e3cbb70e625d6    Bella Notte Pizzeria   \n",
       "1   Bronx  Kingsbridge  55aaee4d498e3cbb70e625d6    Bella Notte Pizzeria   \n",
       "2   Bronx     Woodlawn  511edb6de4b0d58346fd272d  Patrizia's Of Woodlawn   \n",
       "3   Bronx     Woodlawn  4d3cb3026b3d236a066a6364             Rivers Edge   \n",
       "4   Bronx   Baychester  4c9518076b35a143d5dc21dc              Fratelli's   \n",
       "\n",
       "   Likes  Rating  Tips  \n",
       "0      8     7.0     4  \n",
       "1      8     7.0     4  \n",
       "2     18     8.3    14  \n",
       "3     10     6.6     7  \n",
       "4     22     8.4     6  "
      ]
     },
     "execution_count": 28,
     "metadata": {},
     "output_type": "execute_result"
    }
   ],
   "source": [
    "Italian_rest_stats_ny_csv.head()"
   ]
  },
  {
   "cell_type": "code",
   "execution_count": 29,
   "metadata": {},
   "outputs": [
    {
     "name": "stdout",
     "output_type": "stream",
     "text": [
      "<class 'pandas.core.frame.DataFrame'>\n",
      "RangeIndex: 49 entries, 0 to 48\n",
      "Data columns (total 7 columns):\n",
      "Borough         49 non-null object\n",
      "Neighborhood    49 non-null object\n",
      "ID              49 non-null object\n",
      "Name            49 non-null object\n",
      "Likes           49 non-null object\n",
      "Rating          49 non-null float64\n",
      "Tips            49 non-null object\n",
      "dtypes: float64(1), object(6)\n",
      "memory usage: 2.8+ KB\n"
     ]
    }
   ],
   "source": [
    "Italian_rest_stats_ny.info()"
   ]
  },
  {
   "cell_type": "markdown",
   "metadata": {},
   "source": [
    "We see that values like Likes, Tips are strig values. We would need to convert them into float for further analysis"
   ]
  },
  {
   "cell_type": "code",
   "execution_count": 30,
   "metadata": {},
   "outputs": [],
   "source": [
    "Italian_rest_stats_ny['Likes']=Italian_rest_stats_ny['Likes'].astype('float64')"
   ]
  },
  {
   "cell_type": "code",
   "execution_count": 31,
   "metadata": {},
   "outputs": [],
   "source": [
    "Italian_rest_stats_ny['Tips']=Italian_rest_stats_ny['Tips'].astype('float64')"
   ]
  },
  {
   "cell_type": "code",
   "execution_count": 32,
   "metadata": {},
   "outputs": [
    {
     "name": "stdout",
     "output_type": "stream",
     "text": [
      "<class 'pandas.core.frame.DataFrame'>\n",
      "RangeIndex: 49 entries, 0 to 48\n",
      "Data columns (total 7 columns):\n",
      "Borough         49 non-null object\n",
      "Neighborhood    49 non-null object\n",
      "ID              49 non-null object\n",
      "Name            49 non-null object\n",
      "Likes           49 non-null float64\n",
      "Rating          49 non-null float64\n",
      "Tips            49 non-null float64\n",
      "dtypes: float64(3), object(4)\n",
      "memory usage: 2.8+ KB\n"
     ]
    }
   ],
   "source": [
    "Italian_rest_stats_ny.info()"
   ]
  },
  {
   "cell_type": "markdown",
   "metadata": {},
   "source": [
    "Now the data types looks correct"
   ]
  },
  {
   "cell_type": "code",
   "execution_count": 33,
   "metadata": {},
   "outputs": [
    {
     "data": {
      "text/plain": [
       "Borough                            Bronx\n",
       "Neighborhood                    Van Nest\n",
       "ID              3fd66200f964a5207bf11ee3\n",
       "Name                   F & J Pine Tavern\n",
       "Likes                                172\n",
       "Rating                               8.8\n",
       "Tips                                  71\n",
       "Name: 33, dtype: object"
      ]
     },
     "execution_count": 33,
     "metadata": {},
     "output_type": "execute_result"
    }
   ],
   "source": [
    "# Resturant with maximum Likes\n",
    "Italian_rest_stats_ny.iloc[Italian_rest_stats_ny['Likes'].idxmax()]"
   ]
  },
  {
   "cell_type": "code",
   "execution_count": 34,
   "metadata": {},
   "outputs": [
    {
     "data": {
      "text/plain": [
       "Borough                            Bronx\n",
       "Neighborhood                     Fordham\n",
       "ID              4acf80aef964a52025d420e3\n",
       "Name                 Tino's Delicatessen\n",
       "Likes                                144\n",
       "Rating                               9.3\n",
       "Tips                                  48\n",
       "Name: 12, dtype: object"
      ]
     },
     "execution_count": 34,
     "metadata": {},
     "output_type": "execute_result"
    }
   ],
   "source": [
    "# Resturant with maximum Rating\n",
    "Italian_rest_stats_ny.iloc[Italian_rest_stats_ny['Rating'].idxmax()]"
   ]
  },
  {
   "cell_type": "code",
   "execution_count": 35,
   "metadata": {},
   "outputs": [
    {
     "data": {
      "text/plain": [
       "Borough                            Bronx\n",
       "Neighborhood                    Van Nest\n",
       "ID              3fd66200f964a5207bf11ee3\n",
       "Name                   F & J Pine Tavern\n",
       "Likes                                172\n",
       "Rating                               8.8\n",
       "Tips                                  71\n",
       "Name: 33, dtype: object"
      ]
     },
     "execution_count": 35,
     "metadata": {},
     "output_type": "execute_result"
    }
   ],
   "source": [
    "# Resturant with maximum Tips\n",
    "Italian_rest_stats_ny.iloc[Italian_rest_stats_ny['Tips'].idxmax()]"
   ]
  },
  {
   "cell_type": "markdown",
   "metadata": {},
   "source": [
    "Now lets visualize neighborhood with maximum average rating of resturants"
   ]
  },
  {
   "cell_type": "code",
   "execution_count": 36,
   "metadata": {},
   "outputs": [],
   "source": [
    "ny_neighborhood_stats=Italian_rest_stats_ny.groupby('Neighborhood',as_index=False).mean()[['Neighborhood','Rating']]\n",
    "ny_neighborhood_stats.columns=['Neighborhood','Average Rating']"
   ]
  },
  {
   "cell_type": "code",
   "execution_count": 37,
   "metadata": {},
   "outputs": [
    {
     "data": {
      "text/html": [
       "<div>\n",
       "<style scoped>\n",
       "    .dataframe tbody tr th:only-of-type {\n",
       "        vertical-align: middle;\n",
       "    }\n",
       "\n",
       "    .dataframe tbody tr th {\n",
       "        vertical-align: top;\n",
       "    }\n",
       "\n",
       "    .dataframe thead th {\n",
       "        text-align: right;\n",
       "    }\n",
       "</style>\n",
       "<table border=\"1\" class=\"dataframe\">\n",
       "  <thead>\n",
       "    <tr style=\"text-align: right;\">\n",
       "      <th></th>\n",
       "      <th>Neighborhood</th>\n",
       "      <th>Average Rating</th>\n",
       "    </tr>\n",
       "  </thead>\n",
       "  <tbody>\n",
       "    <tr>\n",
       "      <th>1</th>\n",
       "      <td>Belmont</td>\n",
       "      <td>8.575000</td>\n",
       "    </tr>\n",
       "    <tr>\n",
       "      <th>4</th>\n",
       "      <td>Fordham</td>\n",
       "      <td>8.250000</td>\n",
       "    </tr>\n",
       "    <tr>\n",
       "      <th>0</th>\n",
       "      <td>Baychester</td>\n",
       "      <td>8.000000</td>\n",
       "    </tr>\n",
       "    <tr>\n",
       "      <th>8</th>\n",
       "      <td>Morrisania</td>\n",
       "      <td>7.800000</td>\n",
       "    </tr>\n",
       "    <tr>\n",
       "      <th>10</th>\n",
       "      <td>Pelham Parkway</td>\n",
       "      <td>7.800000</td>\n",
       "    </tr>\n",
       "    <tr>\n",
       "      <th>13</th>\n",
       "      <td>Van Nest</td>\n",
       "      <td>7.766667</td>\n",
       "    </tr>\n",
       "    <tr>\n",
       "      <th>2</th>\n",
       "      <td>City Island</td>\n",
       "      <td>7.633333</td>\n",
       "    </tr>\n",
       "    <tr>\n",
       "      <th>7</th>\n",
       "      <td>Morris Park</td>\n",
       "      <td>7.580000</td>\n",
       "    </tr>\n",
       "    <tr>\n",
       "      <th>6</th>\n",
       "      <td>Melrose</td>\n",
       "      <td>7.550000</td>\n",
       "    </tr>\n",
       "    <tr>\n",
       "      <th>14</th>\n",
       "      <td>Woodlawn</td>\n",
       "      <td>7.450000</td>\n",
       "    </tr>\n",
       "  </tbody>\n",
       "</table>\n",
       "</div>"
      ],
      "text/plain": [
       "      Neighborhood  Average Rating\n",
       "1          Belmont        8.575000\n",
       "4          Fordham        8.250000\n",
       "0       Baychester        8.000000\n",
       "8       Morrisania        7.800000\n",
       "10  Pelham Parkway        7.800000\n",
       "13        Van Nest        7.766667\n",
       "2      City Island        7.633333\n",
       "7      Morris Park        7.580000\n",
       "6          Melrose        7.550000\n",
       "14        Woodlawn        7.450000"
      ]
     },
     "execution_count": 37,
     "metadata": {},
     "output_type": "execute_result"
    }
   ],
   "source": [
    "ny_neighborhood_stats.sort_values(['Average Rating'],ascending=False).head(10)"
   ]
  },
  {
   "cell_type": "markdown",
   "metadata": {},
   "source": [
    "Above are the top neighborhoods with top average rating of italian resturants"
   ]
  },
  {
   "cell_type": "code",
   "execution_count": 38,
   "metadata": {},
   "outputs": [],
   "source": [
    "ny_borough_stats=Italian_rest_stats_ny.groupby('Borough',as_index=False).mean()[['Borough','Rating']]\n",
    "ny_borough_stats.columns=['Borough','Average Rating']"
   ]
  },
  {
   "cell_type": "code",
   "execution_count": 39,
   "metadata": {},
   "outputs": [
    {
     "data": {
      "text/html": [
       "<div>\n",
       "<style scoped>\n",
       "    .dataframe tbody tr th:only-of-type {\n",
       "        vertical-align: middle;\n",
       "    }\n",
       "\n",
       "    .dataframe tbody tr th {\n",
       "        vertical-align: top;\n",
       "    }\n",
       "\n",
       "    .dataframe thead th {\n",
       "        text-align: right;\n",
       "    }\n",
       "</style>\n",
       "<table border=\"1\" class=\"dataframe\">\n",
       "  <thead>\n",
       "    <tr style=\"text-align: right;\">\n",
       "      <th></th>\n",
       "      <th>Borough</th>\n",
       "      <th>Average Rating</th>\n",
       "    </tr>\n",
       "  </thead>\n",
       "  <tbody>\n",
       "    <tr>\n",
       "      <th>0</th>\n",
       "      <td>Bronx</td>\n",
       "      <td>7.742857</td>\n",
       "    </tr>\n",
       "  </tbody>\n",
       "</table>\n",
       "</div>"
      ],
      "text/plain": [
       "  Borough  Average Rating\n",
       "0   Bronx        7.742857"
      ]
     },
     "execution_count": 39,
     "metadata": {},
     "output_type": "execute_result"
    }
   ],
   "source": [
    "ny_borough_stats.sort_values(['Average Rating'],ascending=False).head()"
   ]
  },
  {
   "cell_type": "markdown",
   "metadata": {},
   "source": [
    "Similarly these are the average rating of italian Resturants for each Borough"
   ]
  },
  {
   "cell_type": "markdown",
   "metadata": {},
   "source": [
    "Lets visualize it"
   ]
  },
  {
   "cell_type": "code",
   "execution_count": 40,
   "metadata": {},
   "outputs": [
    {
     "data": {
      "image/png": "[encoded data removed]",
      "text/plain": [
       "<Figure size 900x500 with 1 Axes>"
      ]
     },
     "metadata": {
      "needs_background": "light"
     },
     "output_type": "display_data"
    }
   ],
   "source": [
    "plt.figure(figsize=(9,5), dpi = 100)\n",
    "# title\n",
    "plt.title('Average rating of Italian Resturants for each Borough')\n",
    "#On x-axis\n",
    "plt.xlabel('Borough', fontsize = 15)\n",
    "#On y-axis\n",
    "plt.ylabel('Average Rating', fontsize=15)\n",
    "#giving a bar plot\n",
    "Italian_rest_stats_ny.groupby('Borough').mean()['Rating'].plot(kind='bar')\n",
    "#legend\n",
    "plt.legend()\n",
    "#displays the plot\n",
    "plt.show()"
   ]
  },
  {
   "cell_type": "markdown",
   "metadata": {},
   "source": [
    "We will consider all the neighborhoods with average rating greater or equal 9.0 to visualize on map"
   ]
  },
  {
   "cell_type": "code",
   "execution_count": 41,
   "metadata": {},
   "outputs": [],
   "source": [
    "ny_neighborhood_stats=ny_neighborhood_stats[ny_neighborhood_stats['Average Rating']>=9.0]"
   ]
  },
  {
   "cell_type": "code",
   "execution_count": 42,
   "metadata": {},
   "outputs": [
    {
     "data": {
      "text/html": [
       "<div>\n",
       "<style scoped>\n",
       "    .dataframe tbody tr th:only-of-type {\n",
       "        vertical-align: middle;\n",
       "    }\n",
       "\n",
       "    .dataframe tbody tr th {\n",
       "        vertical-align: top;\n",
       "    }\n",
       "\n",
       "    .dataframe thead th {\n",
       "        text-align: right;\n",
       "    }\n",
       "</style>\n",
       "<table border=\"1\" class=\"dataframe\">\n",
       "  <thead>\n",
       "    <tr style=\"text-align: right;\">\n",
       "      <th></th>\n",
       "      <th>Neighborhood</th>\n",
       "      <th>Average Rating</th>\n",
       "    </tr>\n",
       "  </thead>\n",
       "  <tbody>\n",
       "  </tbody>\n",
       "</table>\n",
       "</div>"
      ],
      "text/plain": [
       "Empty DataFrame\n",
       "Columns: [Neighborhood, Average Rating]\n",
       "Index: []"
      ]
     },
     "execution_count": 42,
     "metadata": {},
     "output_type": "execute_result"
    }
   ],
   "source": [
    "ny_neighborhood_stats"
   ]
  },
  {
   "cell_type": "markdown",
   "metadata": {},
   "source": [
    "We will join this dataset to original new york data to get lonitude and latitude"
   ]
  },
  {
   "cell_type": "code",
   "execution_count": 43,
   "metadata": {},
   "outputs": [],
   "source": [
    "ny_neighborhood_stats=pd.merge(ny_neighborhood_stats,new_york_data, on='Neighborhood')"
   ]
  },
  {
   "cell_type": "code",
   "execution_count": 44,
   "metadata": {},
   "outputs": [],
   "source": [
    "ny_neighborhood_stats=ny_neighborhood_stats[['Borough','Neighborhood','Latitude','Longitude','Average Rating']]"
   ]
  },
  {
   "cell_type": "code",
   "execution_count": 45,
   "metadata": {},
   "outputs": [
    {
     "data": {
      "text/html": [
       "<div>\n",
       "<style scoped>\n",
       "    .dataframe tbody tr th:only-of-type {\n",
       "        vertical-align: middle;\n",
       "    }\n",
       "\n",
       "    .dataframe tbody tr th {\n",
       "        vertical-align: top;\n",
       "    }\n",
       "\n",
       "    .dataframe thead th {\n",
       "        text-align: right;\n",
       "    }\n",
       "</style>\n",
       "<table border=\"1\" class=\"dataframe\">\n",
       "  <thead>\n",
       "    <tr style=\"text-align: right;\">\n",
       "      <th></th>\n",
       "      <th>Borough</th>\n",
       "      <th>Neighborhood</th>\n",
       "      <th>Latitude</th>\n",
       "      <th>Longitude</th>\n",
       "      <th>Average Rating</th>\n",
       "    </tr>\n",
       "  </thead>\n",
       "  <tbody>\n",
       "  </tbody>\n",
       "</table>\n",
       "</div>"
      ],
      "text/plain": [
       "Empty DataFrame\n",
       "Columns: [Borough, Neighborhood, Latitude, Longitude, Average Rating]\n",
       "Index: []"
      ]
     },
     "execution_count": 45,
     "metadata": {},
     "output_type": "execute_result"
    }
   ],
   "source": [
    "ny_neighborhood_stats"
   ]
  },
  {
   "cell_type": "markdown",
   "metadata": {},
   "source": [
    "Now we will show this data on a map"
   ]
  },
  {
   "cell_type": "code",
   "execution_count": 46,
   "metadata": {},
   "outputs": [],
   "source": [
    "# create map and display it\n",
    "ny_map = folium.Map(location=geo_location('New York'), zoom_start=12)"
   ]
  },
  {
   "cell_type": "code",
   "execution_count": 47,
   "metadata": {},
   "outputs": [],
   "source": [
    "# instantiate a feature group for the incidents in the dataframe\n",
    "incidents = folium.map.FeatureGroup()\n",
    "\n",
    "# loop through the 100 crimes and add each to the incidents feature group\n",
    "for lat, lng, in ny_neighborhood_stats[['Latitude','Longitude']].values:\n",
    "    incidents.add_child(\n",
    "        folium.CircleMarker(\n",
    "            [lat, lng],\n",
    "            radius=10, # define how big you want the circle markers to be\n",
    "            color='yellow',\n",
    "            fill=True,\n",
    "            fill_color='blue',\n",
    "            fill_opacity=0.6\n",
    "        )\n",
    "    )\n"
   ]
  },
  {
   "cell_type": "markdown",
   "metadata": {},
   "source": [
    "Lets add a new field to dataframe for labeling purpose"
   ]
  },
  {
   "cell_type": "code",
   "execution_count": 48,
   "metadata": {},
   "outputs": [],
   "source": [
    "ny_neighborhood_stats['Label']=ny_neighborhood_stats['Neighborhood']+', '+ny_neighborhood_stats['Borough']+'('+ny_neighborhood_stats['Average Rating'].map(str)+')'"
   ]
  },
  {
   "cell_type": "code",
   "execution_count": 49,
   "metadata": {},
   "outputs": [
    {
     "data": {
      "text/html": [
       "<div style=\"width:100%;\"><div style=\"position:relative;width:100%;height:0;padding-bottom:60%;\"><iframe src=\"data:text/html;charset=utf-8;base64,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\" style=\"position:absolute;width:100%;height:100%;left:0;top:0;border:none !important;\" allowfullscreen webkitallowfullscreen mozallowfullscreen></iframe></div></div>"
      ],
      "text/plain": [
       "<folium.folium.Map at 0x7fbfcda672e8>"
      ]
     },
     "execution_count": 49,
     "metadata": {},
     "output_type": "execute_result"
    }
   ],
   "source": [
    "# add pop-up text to each marker on the map\n",
    "for lat, lng, label in ny_neighborhood_stats[['Latitude','Longitude','Label']].values:\n",
    "    folium.Marker([lat, lng], popup=label).add_to(ny_map)        \n",
    "# add incidents to map\n",
    "ny_map.add_child(incidents)"
   ]
  },
  {
   "cell_type": "markdown",
   "metadata": {},
   "source": [
    "### Conclusion \n",
    "- Astoria(Queens), Blissville(Queens), Civic Center(Manhattan) are some of the best neighborhoods for italian cuisine. \n",
    "- Manhattan have potential italian Resturant Market/ \n",
    "- Staten Island\tranks last in average rating of italian Resturants.\n",
    "- Manhattan is the best place to stay if you prefer italian Cuisine."
   ]
  },
  {
   "cell_type": "markdown",
   "metadata": {},
   "source": [
    "### Limitations \n",
    "- The ranking is purely on basis of rating of resturants\n",
    "- The accuracy of data depends purely depends on the data provided by FourSquare and the limited calls"
   ]
  },
  {
   "cell_type": "code",
   "execution_count": null,
   "metadata": {},
   "outputs": [],
   "source": []
  }
 ],
 "metadata": {
  "kernelspec": {
   "display_name": "Python 3",
   "language": "python",
   "name": "python3"
  },
  "language_info": {
   "codemirror_mode": {
    "name": "ipython",
    "version": 3
   },
   "file_extension": ".py",
   "mimetype": "text/x-python",
   "name": "python",
   "nbconvert_exporter": "python",
   "pygments_lexer": "ipython3",
   "version": "3.6.8"
  }
 },
 "nbformat": 4,
 "nbformat_minor": 2
}
